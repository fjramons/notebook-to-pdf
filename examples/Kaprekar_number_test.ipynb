{
  "cells": [
    {
      "cell_type": "markdown",
      "metadata": {
        "id": "6PsyvFJuu9I-"
      },
      "source": [
        "# Kaprekar Number test\n",
        "\n",
        "\n"
      ]
    },
    {
      "cell_type": "markdown",
      "metadata": {
        "id": "doHaKxV0vBfh"
      },
      "source": [
        "The number 6174 is known as the “Kaprekar constant” in honor of the Indian mathematician D. R. Kaprekar, who discovered a curious mathematical property associated with this number.\n",
        "\n",
        "The property consists of the following:\n",
        "\n",
        "Take any four-digit number that has at least two different digits.\n",
        "Sort its digits in descending order and in ascending order.\n",
        "Subtract the two numbers obtained.\n",
        "Repeat the process with the resulting number until you reach the number 6174.\n",
        "For example, if we take the number 5432, we get:\n",
        "\n",
        "5432 - 2345 = 3087 8730 - 0378 = 8352 8532 - 2358 = 6174\n",
        "\n",
        "It can be verified that any four-digit number that meets the initial condition (having at least two different digits) always converges to 6174 after a finite number of steps (!!!)\n",
        "\n",
        "Reference: https://qr.ae/prijr4"
      ]
    },
    {
      "cell_type": "code",
      "execution_count": 1,
      "metadata": {
        "id": "9s-Cu44EqMN3",
        "vscode": {
          "languageId": "python"
        }
      },
      "outputs": [],
      "source": [
        "target = 6174 # Kaprekar Number"
      ]
    },
    {
      "cell_type": "code",
      "execution_count": 2,
      "metadata": {
        "id": "lIYdn1woOS1n",
        "vscode": {
          "languageId": "python"
        }
      },
      "outputs": [],
      "source": [
        "N = 1439\n",
        "# N = 3751  # Special value: just one iteration is required"
      ]
    },
    {
      "cell_type": "code",
      "execution_count": 3,
      "metadata": {
        "colab": {
          "base_uri": "https://localhost:8080/"
        },
        "id": "Shq5O-D0p0nK",
        "outputId": "bf46852b-124a-43fa-d507-29c571aeef51",
        "vscode": {
          "languageId": "python"
        }
      },
      "outputs": [
        {
          "name": "stdout",
          "output_type": "stream",
          "text": [
            "Kaprekar Number: 6174\n",
            "\n",
            "{'n': 1439, 'max_min': 9431, 'min_max': 1349, 'diff': 8082}\n",
            "{'n': 8082, 'max_min': 8820, 'min_max': 288, 'diff': 8532}\n",
            "{'n': 8532, 'max_min': 8532, 'min_max': 2358, 'diff': 6174}\n"
          ]
        }
      ],
      "source": [
        "n = N\n",
        "datos = []\n",
        "print(f\"Kaprekar Number: {target}\\n\")\n",
        "\n",
        "while n != target:\n",
        "  sample = {}\n",
        "  digits = list(str(n))\n",
        "  min_max = int(\"\".join(sorted(digits)))\n",
        "  max_min = int(\"\".join(sorted(digits, reverse=True)))\n",
        "  diff = max_min - min_max\n",
        "  sample = {\n",
        "      'n': n,\n",
        "      'max_min': max_min,\n",
        "      'min_max': min_max,\n",
        "      'diff': diff,\n",
        "  }\n",
        "  datos.append(sample)\n",
        "  print(sample)\n",
        "  n = diff"
      ]
    },
    {
      "cell_type": "code",
      "execution_count": 3,
      "metadata": {
        "id": "Jhk0-V3usWr5",
        "vscode": {
          "languageId": "python"
        }
      },
      "outputs": [],
      "source": []
    }
  ],
  "metadata": {
    "colab": {
      "provenance": []
    },
    "kernelspec": {
      "display_name": "Python 3",
      "name": "python3"
    }
  },
  "nbformat": 4,
  "nbformat_minor": 0
}
